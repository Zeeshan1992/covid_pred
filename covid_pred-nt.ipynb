{
 "cells": [
  {
   "cell_type": "code",
   "execution_count": null,
   "metadata": {},
   "outputs": [],
   "source": [
    "import pandas as pd\n",
    "import numpy as np\n",
    "import matplotlib.pyplot as plt\n",
    "from sklearn.model_selection import train_test_split\n",
    "from sklearn.preprocessing import PolynomialFeatures\n",
    "from sklearn.linear_model import LinearRegression\n",
    "from sklearn import tree\n",
    "from sklearn.ensemble import RandomForestRegressor\n",
    "from sklearn.linear_model import Lasso\n",
    "from sklearn.metrics import r2_score"
   ]
  },
  {
   "cell_type": "code",
   "execution_count": null,
   "metadata": {},
   "outputs": [],
   "source": [
    "# Fetching the data\n",
    "df = pd.read_csv('covid_data.csv')\n",
    "# Change the cuntry code to the desired country\n",
    "df = df.loc[df['country'] == 'SE']\n",
    "# the x axis for the plots\n",
    "x0 = np.array(df[['week','prev_cases']]).reshape(-1,1)\n",
    "# Y values, change parameter to cases for infected cases\n",
    "y = np.array(df['cases'])\n",
    "# Checking the column in the data\n",
    "print(df.columns)"
   ]
  },
  {
   "cell_type": "code",
   "execution_count": null,
   "metadata": {},
   "outputs": [],
   "source": [
    "df = df.drop('lat',1)\n",
    "df = df.drop('long',1)\n",
    "# correlation matrix\n",
    "corr_matrix = df.corr()\n",
    "# print(corr_matrix)\n",
    "# for testing parameters, change the death parameter to cases for the infected cases \n",
    "x = np.array(df[['week','prev_cases']])\n",
    "x_train, x_test, y_train, y_test = train_test_split(x,y,test_size=0.20,shuffle=False)\n",
    "week = np.arange(55,67,1)\n",
    "print(x_test)"
   ]
  },
  {
   "cell_type": "code",
   "execution_count": null,
   "metadata": {},
   "outputs": [],
   "source": [
    "# create the linear regression\n",
    "lin_reg = LinearRegression()\n",
    "lin_reg.fit(x_train,y_train)\n",
    "\n",
    "lin_reg_death = LinearRegression()\n",
    "lin_reg_death.fit(x_train,y_train)\n",
    "plt.plot(week, y_test, 'ob', label='Confirmed death')\n",
    "plt.plot(week, lin_reg.predict(x_test), '-r', label='Predicted death')\n",
    "plt.title('COVID-19 confimed death of Sweden(Linear Regression)')\n",
    "plt.xlabel('Week')\n",
    "plt.ylabel('Confirmed(#)')\n",
    "plt.grid()\n",
    "plt.legend()\n",
    "plt.show()\n",
    "\n",
    "\n",
    "print('Linear Regession  R2 Score   : ',\n",
    "      r2_score(y, lin_reg.predict(x)))"
   ]
  },
  {
   "cell_type": "code",
   "execution_count": null,
   "metadata": {},
   "outputs": [],
   "source": [
    "# create the decision tree \n",
    "dec_tree = tree.DecisionTreeRegressor()\n",
    "dec_tree.fit(x_train,y_train)\n",
    "\n",
    "plt.plot(week, y_test, 'ob', label=\"Confirmed death\")\n",
    "plt.plot(week, dec_tree.predict(x_test), '-r', label=\"Predicted death\")\n",
    "plt.title('COVID-19 confimed death of Sweden(Decision Tree)')\n",
    "plt.xlabel('Week')\n",
    "plt.ylabel('Confirmed(#)')\n",
    "plt.grid()\n",
    "plt.legend()\n",
    "plt.show()\n",
    "\n",
    "print('Decision Tree  R2 Score   : ',\n",
    "      r2_score(y, dec_tree.predict(x)))"
   ]
  },
  {
   "cell_type": "code",
   "execution_count": null,
   "metadata": {},
   "outputs": [],
   "source": [
    "# create the random forest\n",
    "rand_for = RandomForestRegressor()\n",
    "rand_for.fit(x_train,y_train)\n",
    "\n",
    "plt.plot(week, y_test, 'ob', label=\"Confirmed death\")\n",
    "plt.plot(week, rand_for.predict(x_test), '-r', label=\"Predicted death\")\n",
    "plt.title('COVID-19 confimed death of Sweden(Random Forest)')\n",
    "plt.xlabel('Week')\n",
    "plt.ylabel('Confirmed(#)')\n",
    "plt.grid()\n",
    "plt.legend()\n",
    "plt.show()\n",
    "\n",
    "print('Random Forest  R2 Score   : ',\n",
    "      r2_score(y, rand_for.predict(x)))"
   ]
  },
  {
   "cell_type": "code",
   "execution_count": null,
   "metadata": {},
   "outputs": [],
   "source": [
    "# create the lasso\n",
    "lasso = Lasso(alpha=1000)\n",
    "lasso.fit(x_train,y_train)\n",
    "\n",
    "plt.plot(week, y_test, 'ob', label=\"Confirmed death\")\n",
    "plt.plot(week, lasso.predict(x_test), '-r', label=\"Predicted death\")\n",
    "plt.title('COVID-19 confimed death of Sweden(Lasso)')\n",
    "plt.xlabel('Week')\n",
    "plt.ylabel('Confirmed(#)')\n",
    "plt.grid()\n",
    "plt.legend()\n",
    "plt.show()\n",
    "\n",
    "print('Lasso  R2 Score   : ',\n",
    "      r2_score(y, lasso.predict(x)))"
   ]
  }
 ],
 "metadata": {
  "interpreter": {
   "hash": "ba0802cb0f5c608aca03bac12c2a0fe88848bdaef895ae7981e858e46c9e8f3d"
  },
  "kernelspec": {
   "display_name": "Python 3.9.10 64-bit (windows store)",
   "language": "python",
   "name": "python3"
  },
  "language_info": {
   "codemirror_mode": {
    "name": "ipython",
    "version": 3
   },
   "file_extension": ".py",
   "mimetype": "text/x-python",
   "name": "python",
   "nbconvert_exporter": "python",
   "pygments_lexer": "ipython3",
   "version": "3.9.10"
  },
  "orig_nbformat": 4
 },
 "nbformat": 4,
 "nbformat_minor": 2
}
